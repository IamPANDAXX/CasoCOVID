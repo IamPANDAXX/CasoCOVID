{
 "cells": [
  {
   "cell_type": "code",
   "execution_count": null,
   "id": "a346837e-25db-4983-81e7-8183073f5dab",
   "metadata": {},
   "outputs": [],
   "source": [
    "from pybbn.graph.dag import Bbn\n",
    "from pybbn.graph.edge import Edge, EdgeType\n",
    "from pybbn.graph.node import BbnNode\n",
    "from pybbn.graph.variable import Variable\n",
    "from pybbn.pptc.inferencecontroller import InferenceController\n",
    "from pybbn.graph.jointree import EvidenceBuilder\n",
    "\n",
    "def getEnfermedades():\n",
    "    #Variables\n",
    "    var_tos = Variable(0, 'tos', ['si', 'no']) \n",
    "    var_gripe = Variable(1, 'gripe', ['si', 'no'])\n",
    "    var_fiebre = Variable(2, 'fiebre', ['si', 'no'])\n",
    "    var_tuberculosis = Variable(3, 'propenso a tuberculosis', ['si', 'no'])\n",
    "    var_bronquitis = Variable(4, 'propenso a bronquitis', ['si', 'no'])\n",
    "    var_covid = Variable(5, 'covid', ['si', 'no'])\n",
    "    \n",
    "\n",
    "    #Tablas de probabilidad\n",
    "    tabla_tos = [0.60,0.40 ] \n",
    "    tabla_gripe = [0.60, 0.40] #tendremos que agregar con cuidado el + primero y el - despues\n",
    "    tabla_fiebre = [0.60,0.40]\n",
    "    tabla_tuberculosis = [0.43,0.57,  0.45,0.55]  #0.40,0.60,  0.48,0.52,  0.39,0.61,  0.47,0.53,  0.42,0.68,  0.49,0.51,  0.38,0.62,  0.41,0.59,  0.37,0.63,  0.44,0.56,  0.36,0.64,  0.43,0.57,  0.41,0.59,  0.46,0.54]\n",
    "    tabla_bronquitis = [0.44,0.56,  0.46,0.54,  0.41,0.59,  0.49,0.51,  0.40,0.60,  0.48,0.52,  0.43,0.57,  0.50,0.50,  0.41,0.59,  0.41,0.56,  0.39,0.61,  0.47,0.53,  0.38,0.62,  0.45,0.55,  0.42,0.58,  0.49,0.51]\n",
    "    tabla_covid = [0.45,0.55,  0.47,0.53,  0.42,0.58,  0.50,0.50,  0.41,0.59,  0.49,0.51,  0.44,0.56,  0.51,0.49,  0.42,0.58,  0.45,0.55,  0.40,0.60,  0.48,0.52,  0.39,0.61,  0.46,0.54,  0.43,0.57,  0.50,0.50]\n",
    "      \n",
    "\n",
    "\n",
    "\n",
    "    #Nodos\n",
    "    nodotos = BbnNode(var_tos, tabla_tos)\n",
    "    nodogripe = BbnNode(var_gripe, tabla_gripe)\n",
    "    nodofiebre = BbnNode(var_fiebre, tabla_fiebre)\n",
    "    nodotuberculosis= BbnNode(var_tuberculosis, tabla_tuberculosis)\n",
    "    nodobronquitis = BbnNode(var_bronquitis, tabla_bronquitis)\n",
    "    nodocovid = BbnNode(var_covid, tabla_covid)\n",
    "    \n",
    "    \n",
    "\n",
    "    #Modelo\n",
    "    bayesiana = Bbn().add_node(nodotos).add_node(nodogripe).add_node(nodotuberculosis).add_node(nodobronquitis).add_node(nodocovid).add_node(nodofiebre)\\\n",
    "\n",
    "    bayesiana.add_edge(Edge(nodotos, nodocovid, EdgeType.DIRECTED)) #agregamos la conexion de los nodos dependiendo cual conecta con cual\n",
    "    bayesiana.add_edge(Edge(nodotos, nodotuberculosis, EdgeType.DIRECTED))\n",
    "    bayesiana.add_edge(Edge(nodotos, nodobronquitis, EdgeType.DIRECTED))\n",
    "    \n",
    "    bayesiana.add_edge(Edge(nodofiebre, nodocovid, EdgeType.DIRECTED))\n",
    "    bayesiana.add_edge(Edge(nodofiebre, nodobronquitis, EdgeType.DIRECTED))\n",
    "    \n",
    "    bayesiana.add_edge(Edge(nodogripe, nodobronquitis, EdgeType.DIRECTED))\n",
    "    bayesiana.add_edge(Edge(nodogripe, nodocovid, EdgeType.DIRECTED))\n",
    "    \n",
    "    #bayesiana.add_edge(Edge(nodocovid, nodotuberculosis, EdgeType.DIRECTED))\n",
    "    #bayesiana.add_edge(Edge(nodocovid, nodobronquitis, EdgeType.DIRECTED))\n",
    "    \n",
    "    \n",
    "    \n",
    "  \n",
    "    return bayesiana\n",
    "\n",
    "def getMotorInferencia():\n",
    "    red = getEnfermedades()\n",
    "    control_inferencia = InferenceController.apply(red)\n",
    "    return control_inferencia\n",
    "\n",
    "def printPosteriors(join_tree):\n",
    "    for node, posteriors in join_tree.get_posteriors().items():\n",
    "        p = ', '.join([f'{val}={prob:.5f}' for val, prob in posteriors.items()])\n",
    "        print(f'{node} : {p}')"
   ]
  },
  {
   "cell_type": "code",
   "execution_count": null,
   "id": "2e46e8db-b036-4374-a693-05b828fbd746",
   "metadata": {
    "tags": []
   },
   "outputs": [],
   "source": [
    "#verificamos las inferencias\n",
    "modelo=getMotorInferencia()\n",
    "\n"
   ]
  },
  {
   "cell_type": "code",
   "execution_count": null,
   "id": "1b4ca92f-2b93-40b8-9c7b-1480bd9d7433",
   "metadata": {
    "tags": []
   },
   "outputs": [
    {
     "name": "stdout",
     "output_type": "stream",
     "text": [
      "tos : si=1.00000, no=0.00000\n",
      "propenso a tuberculosis : si=0.43000, no=0.57000\n",
      "gripe : si=1.00000, no=0.00000\n",
      "fiebre : si=0.58719, no=0.41281\n",
      "propenso a bronquitis : si=0.42762, no=0.57238\n",
      "covid : si=0.00000, no=1.00000\n"
     ]
    }
   ],
   "source": [
    "#Ejemplo: Si una persona tiene gripe, tos, pero no tiene COVID, ¿cuál es la probabilidad de bronquitis y tuberculosis?\n",
    "\n",
    "modelo.unobserve_all() #reiniciamos la wea\n",
    "\n",
    "nodotos = modelo.get_bbn_node_by_name('tos')\n",
    "evb = (EvidenceBuilder() \\\n",
    "    .with_node(nodotos) \\\n",
    "    .with_evidence('si',1.0) \\\n",
    "    .build())\n",
    "\n",
    "\n",
    "nodogripe = modelo.get_bbn_node_by_name('gripe')\n",
    "evc = (EvidenceBuilder() \\\n",
    "    .with_node(nodogripe) \\\n",
    "    .with_evidence('si', 1.0) \\\n",
    "    .build())\n",
    "\n",
    "\n",
    "nodocovid = modelo.get_bbn_node_by_name('covid')\n",
    "eve = (EvidenceBuilder() \\\n",
    "    .with_node(nodocovid) \\\n",
    "    .with_evidence('no', 1.0) \\\n",
    "    .build())\n",
    "\n",
    "modelo.set_observation(evb)\n",
    "modelo.set_observation(evc)\n",
    "modelo.set_observation(eve)\n",
    "\n",
    "printPosteriors(modelo)\n"
   ]
  },
  {
   "cell_type": "code",
   "execution_count": 33,
   "id": "3c233273-f71e-473f-a999-91ae7e97d611",
   "metadata": {
    "tags": []
   },
   "outputs": [
    {
     "name": "stdout",
     "output_type": "stream",
     "text": [
      "tos : si=1.00000, no=0.00000\n",
      "propenso a tuberculosis : si=1.00000, no=0.00000\n",
      "gripe : si=0.61940, no=0.38060\n",
      "fiebre : si=0.59735, no=0.40265\n",
      "propenso a bronquitis : si=0.44435, no=0.55565\n",
      "covid : si=0.00000, no=1.00000\n"
     ]
    }
   ],
   "source": [
    "#Ejemplo: Si una persona tiene tos, ya tiene tuberculosis, pero no tiene COVID. ¿Cuál es su probabilidad de tener bronquitis y tener gripe?\n",
    "\n",
    "modelo.unobserve_all() #reiniciamos la wea\n",
    "\n",
    "nodotos = modelo.get_bbn_node_by_name('tos')\n",
    "evb = (EvidenceBuilder() \\\n",
    "    .with_node(nodotos) \\\n",
    "    .with_evidence('si',1.0) \\\n",
    "    .build())\n",
    "\n",
    "\n",
    "nodocovid = modelo.get_bbn_node_by_name('covid')\n",
    "evd = (EvidenceBuilder() \\\n",
    "    .with_node(nodocovid) \\\n",
    "    .with_evidence('no', 1.0) \\\n",
    "    .build())\n",
    "\n",
    "\n",
    "nodotuberculosis = modelo.get_bbn_node_by_name('propenso a tuberculosis')\n",
    "eve = (EvidenceBuilder() \\\n",
    "    .with_node(nodotuberculosis) \\\n",
    "    .with_evidence('si', 1.0) \\\n",
    "    .build())\n",
    "\n",
    "modelo.set_observation(evb)\n",
    "modelo.set_observation(evd)\n",
    "modelo.set_observation(eve)\n",
    "\n",
    "printPosteriors(modelo)"
   ]
  },
  {
   "cell_type": "code",
   "execution_count": 35,
   "id": "66f78a57-654b-41d8-9e6f-e970009f0153",
   "metadata": {
    "tags": []
   },
   "outputs": [
    {
     "name": "stdout",
     "output_type": "stream",
     "text": [
      "tos : si=0.00000, no=1.00000\n",
      "propenso a tuberculosis : si=0.45000, no=0.55000\n",
      "gripe : si=1.00000, no=0.00000\n",
      "fiebre : si=0.60000, no=0.40000\n",
      "propenso a bronquitis : si=0.41200, no=0.58800\n",
      "covid : si=0.42200, no=0.57800\n"
     ]
    }
   ],
   "source": [
    "#Ejemplo: Si una persona no tiene tos y si tiene gripe, ¿Cuál es la probabilidad de que tenga covid y fiebre?\n",
    "\n",
    "modelo.unobserve_all() #reiniciamos la wea\n",
    "\n",
    "nodotos = modelo.get_bbn_node_by_name('tos')\n",
    "evb = (EvidenceBuilder() \\\n",
    "    .with_node(nodotos) \\\n",
    "    .with_evidence('no',1.0) \\\n",
    "    .build())\n",
    "\n",
    "\n",
    "nodogripe = modelo.get_bbn_node_by_name('gripe')\n",
    "evc = (EvidenceBuilder() \\\n",
    "    .with_node(nodogripe) \\\n",
    "    .with_evidence('si', 1.0) \\\n",
    "    .build())\n",
    "\n",
    "\n",
    "modelo.set_observation(evb)\n",
    "modelo.set_observation(evc)\n",
    "\n",
    "\n",
    "printPosteriors(modelo)"
   ]
  },
  {
   "cell_type": "code",
   "execution_count": null,
   "id": "6892efaa-1219-4dad-8ddd-862a6635d058",
   "metadata": {},
   "outputs": [
    {
     "name": "stdout",
     "output_type": "stream",
     "text": [
      "tos : si=0.59214, no=0.40786\n",
      "propenso a tuberculosis : si=0.43816, no=0.56184\n",
      "gripe : si=0.58722, no=0.41278\n",
      "fiebre : si=0.00000, no=1.00000\n",
      "propenso a bronquitis : si=0.44951, no=0.55049\n",
      "covid : si=1.00000, no=0.00000\n"
     ]
    }
   ],
   "source": [
    "#Ejemplo: Si una persona no tiene fiebre pero si tiene covid cual es la probabilidad de padecer bronquitis y tuberculosis?\n",
    "\n",
    "modelo.unobserve_all() #reiniciamos la wea\n",
    "\n",
    "nodofiebre = modelo.get_bbn_node_by_name('fiebre')\n",
    "evb = (EvidenceBuilder() \\\n",
    "    .with_node(nodofiebre) \\\n",
    "    .with_evidence('no',1.0) \\\n",
    "    .build())\n",
    "\n",
    "\n",
    "nodocovid = modelo.get_bbn_node_by_name('covid')\n",
    "evc = (EvidenceBuilder() \\\n",
    "    .with_node(nodocovid) \\\n",
    "    .with_evidence('si', 1.0) \\\n",
    "    .build())\n",
    "\n",
    "\n",
    "modelo.set_observation(evb)\n",
    "modelo.set_observation(evc)\n",
    "\n",
    "\n",
    "printPosteriors(modelo)"
   ]
  },
  {
   "cell_type": "code",
   "execution_count": null,
   "id": "369b08f8-ae67-401a-aa2e-871eab87aeaf",
   "metadata": {
    "tags": []
   },
   "outputs": [
    {
     "name": "stdout",
     "output_type": "stream",
     "text": [
      "tos : si=1.00000, no=0.00000\n",
      "propenso a tuberculosis : si=0.43000, no=0.57000\n",
      "gripe : si=0.00000, no=1.00000\n",
      "fiebre : si=0.00000, no=1.00000\n",
      "propenso a bronquitis : si=0.49000, no=0.51000\n",
      "covid : si=0.50000, no=0.50000\n"
     ]
    }
   ],
   "source": [
    "#Ejemplo: Si una persona no tiene fiebre, ni gripe pero si tiene tos,cual es su probabilidad de tener covid?\n",
    "\n",
    "modelo.unobserve_all() #reiniciamos la wea\n",
    "\n",
    "nodofiebre = modelo.get_bbn_node_by_name('fiebre')\n",
    "evb = (EvidenceBuilder() \\\n",
    "    .with_node(nodofiebre) \\\n",
    "    .with_evidence('no',1.0) \\\n",
    "    .build())\n",
    "\n",
    "\n",
    "nodotos = modelo.get_bbn_node_by_name('tos')\n",
    "evd = (EvidenceBuilder() \\\n",
    "    .with_node(nodotos) \\\n",
    "    .with_evidence('si', 1.0) \\\n",
    "    .build())\n",
    "\n",
    "\n",
    "nodogripe = modelo.get_bbn_node_by_name('gripe')\n",
    "eve = (EvidenceBuilder() \\\n",
    "    .with_node(nodogripe) \\\n",
    "    .with_evidence('no', 1.0) \\\n",
    "    .build())\n",
    "\n",
    "modelo.set_observation(evb)\n",
    "modelo.set_observation(evd)\n",
    "modelo.set_observation(eve)\n",
    "\n",
    "printPosteriors(modelo)"
   ]
  },
  {
   "cell_type": "code",
   "execution_count": null,
   "id": "54aeeb80-86a3-4a9e-8c42-b9e5c1b6a217",
   "metadata": {},
   "outputs": [],
   "source": []
  }
 ],
 "metadata": {
  "kernelspec": {
   "display_name": "Python 3 (ipykernel)",
   "language": "python",
   "name": "python3"
  },
  "language_info": {
   "codemirror_mode": {
    "name": "ipython",
    "version": 3
   },
   "file_extension": ".py",
   "mimetype": "text/x-python",
   "name": "python",
   "nbconvert_exporter": "python",
   "pygments_lexer": "ipython3",
   "version": "3.11.5"
  }
 },
 "nbformat": 4,
 "nbformat_minor": 5
}
